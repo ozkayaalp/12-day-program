{
 "cells": [
  {
   "cell_type": "code",
   "execution_count": 1,
   "id": "043d7c8a-eccb-4a59-8b98-72869be9a3cd",
   "metadata": {},
   "outputs": [],
   "source": [
    "import glob\n",
    "import os\n",
    "import pathlib\n",
    "import pandas as pd"
   ]
  },
  {
   "cell_type": "code",
   "execution_count": 2,
   "id": "af99605f-0783-4c2a-b36a-2b3865370e1e",
   "metadata": {},
   "outputs": [
    {
     "name": "stdout",
     "output_type": "stream",
     "text": [
      "C:\\Users\\ozkay\n"
     ]
    }
   ],
   "source": [
    "print(os.getcwd())"
   ]
  },
  {
   "cell_type": "code",
   "execution_count": 3,
   "id": "5184dc77-a429-4118-9837-ad3d7223e597",
   "metadata": {},
   "outputs": [],
   "source": [
    "os.chdir(\"C:/Users\\ozkay/DATA SCIENCE COURSE/\")\n",
    "energy = pd.read_csv(\"Value_of_Energy_Cost_dataset.csv\")"
   ]
  },
  {
   "cell_type": "code",
   "execution_count": 4,
   "id": "325d9ba8-ad32-4a32-bb3c-33ce66a8ccd3",
   "metadata": {
    "tags": []
   },
   "outputs": [
    {
     "data": {
      "text/plain": [
       "Index(['Company Name', 'company contact', 'company email', 'company phone',\n",
       "       'Address', 'City', 'State', 'Postcode', 'Industry', 'Industry descr',\n",
       "       'Company Type', 'Current fulltime', 'Job created', 'Job retain',\n",
       "       'Effective Date', 'Total Savings',\n",
       "       'Savings from beginning receiving benefits', 'Borough', 'Latitude',\n",
       "       'Longitude', 'Community Board', 'Council District', 'Census Tract',\n",
       "       'BIN', 'BBL', 'NTA'],\n",
       "      dtype='object')"
      ]
     },
     "execution_count": 4,
     "metadata": {},
     "output_type": "execute_result"
    }
   ],
   "source": [
    "energy.columns"
   ]
  },
  {
   "cell_type": "markdown",
   "id": "9b5079e2-806f-468d-b917-65eb37f82d79",
   "metadata": {
    "tags": []
   },
   "source": [
    "# How many different companies are represented in the data set?"
   ]
  },
  {
   "cell_type": "code",
   "execution_count": 5,
   "id": "dd0242e4-252c-4b70-a51a-3fadfd912b19",
   "metadata": {},
   "outputs": [
    {
     "data": {
      "text/plain": [
       "0                                1 State Street\n",
       "1                                100 Church LLC\n",
       "2                          100 Wall Investments\n",
       "3                   1-10 Bush Terminal Owner LP\n",
       "4      120 Broadway Acquisitions JV, LLC (Ldmk)\n",
       "                         ...                   \n",
       "445                           WONTON FOOD, INC.\n",
       "446                                  Wood Works\n",
       "447             WorldWide Plumbing Supply, Inc.\n",
       "448                           WUD Furniture LLC\n",
       "449                         Wurtec Incorporated\n",
       "Name: Company Name, Length: 450, dtype: object"
      ]
     },
     "execution_count": 5,
     "metadata": {},
     "output_type": "execute_result"
    }
   ],
   "source": [
    "energy['Company Name']"
   ]
  },
  {
   "cell_type": "markdown",
   "id": "a23aa591-19b0-43a0-bf5a-bcd7148b780a",
   "metadata": {},
   "source": [
    "# What is the total number of jobs created for businesses in Queens?"
   ]
  },
  {
   "cell_type": "code",
   "execution_count": 6,
   "id": "9e27f549-7cd3-4540-bf0b-217f0aaf3e87",
   "metadata": {},
   "outputs": [],
   "source": [
    "queensss = energy[(energy['Borough'] == \"Queens\")]"
   ]
  },
  {
   "cell_type": "code",
   "execution_count": 7,
   "id": "9f23d1c6-f3d9-4bbe-b8ac-e224f59813c2",
   "metadata": {
    "tags": []
   },
   "outputs": [
    {
     "data": {
      "text/plain": [
       "Company Name                                 173\n",
       "company contact                              173\n",
       "company email                                169\n",
       "company phone                                173\n",
       "Address                                      173\n",
       "City                                         173\n",
       "State                                        173\n",
       "Postcode                                     173\n",
       "Industry                                     173\n",
       "Industry descr                               172\n",
       "Company Type                                 173\n",
       "Current fulltime                             173\n",
       "Job created                                    5\n",
       "Job retain                                     6\n",
       "Effective Date                               173\n",
       "Total Savings                                173\n",
       "Savings from beginning receiving benefits    173\n",
       "Borough                                      173\n",
       "Latitude                                     153\n",
       "Longitude                                    153\n",
       "Community Board                              153\n",
       "Council District                             153\n",
       "Census Tract                                 153\n",
       "BIN                                          151\n",
       "BBL                                          151\n",
       "NTA                                          153\n",
       "dtype: int64"
      ]
     },
     "execution_count": 7,
     "metadata": {},
     "output_type": "execute_result"
    }
   ],
   "source": [
    "queensss.count()"
   ]
  },
  {
   "cell_type": "markdown",
   "id": "75170ac7-52b8-4fa2-9c3f-f1c634642a0d",
   "metadata": {},
   "source": [
    "# How many different unique email domains names are there in the data set?"
   ]
  },
  {
   "cell_type": "code",
   "execution_count": 8,
   "id": "0d8fd3fb-e1dd-4d55-a20b-670b62ca5c0f",
   "metadata": {},
   "outputs": [],
   "source": [
    "energy['domains'] = energy['company email'].str.split('@').str.get(1)"
   ]
  },
  {
   "cell_type": "code",
   "execution_count": 9,
   "id": "4b8a93cc-73ec-4a0d-876e-0f321985e8b3",
   "metadata": {},
   "outputs": [
    {
     "data": {
      "text/plain": [
       "0      com\n",
       "1      NaN\n",
       "2      NaN\n",
       "3      com\n",
       "4      com\n",
       "      ... \n",
       "445    com\n",
       "446    com\n",
       "447    com\n",
       "448    com\n",
       "449    com\n",
       "Name: domains_2, Length: 450, dtype: object"
      ]
     },
     "execution_count": 9,
     "metadata": {},
     "output_type": "execute_result"
    }
   ],
   "source": [
    "energy['domains_2']= energy['domains'].str.split('.').str.get(1)\n",
    "energy['domains_2']"
   ]
  },
  {
   "cell_type": "code",
   "execution_count": 10,
   "id": "d83bb0c3-f82f-4db6-8b05-b5d21183fa84",
   "metadata": {},
   "outputs": [
    {
     "data": {
      "text/plain": [
       "array(['com', nan, 'jll', 'aecom', 'org', 'edu', 'net', 'comP', 'COM',\n",
       "       'ngrid', 'biz', 'klinelogistics', 'kwe', 'aero', 'info', 'nyc'],\n",
       "      dtype=object)"
      ]
     },
     "execution_count": 10,
     "metadata": {},
     "output_type": "execute_result"
    }
   ],
   "source": [
    "energy['domains_2'].unique()"
   ]
  },
  {
   "cell_type": "code",
   "execution_count": 11,
   "id": "6e6e1a26-3d84-414a-83a4-9f2d84d9840c",
   "metadata": {
    "tags": []
   },
   "outputs": [
    {
     "data": {
      "text/plain": [
       "15"
      ]
     },
     "execution_count": 11,
     "metadata": {},
     "output_type": "execute_result"
    }
   ],
   "source": [
    "energy['domains_2'].nunique()"
   ]
  },
  {
   "cell_type": "markdown",
   "id": "92281fd0-b7ac-44a9-aa6d-64cca25b53b3",
   "metadata": {},
   "source": [
    "# Considering only NTAs with at least 5 listed businesses, what is the average total savings and the total jobs created for each NTA"
   ]
  },
  {
   "cell_type": "code",
   "execution_count": 12,
   "id": "58336ba9-fa5a-44f8-a1b2-dce26a30212b",
   "metadata": {
    "tags": []
   },
   "outputs": [],
   "source": [
    "os.getcwd()\n",
    "os.chdir(\"C:/Users/ozkay/DATA SCIENCE COURSE/\")"
   ]
  },
  {
   "cell_type": "code",
   "execution_count": 13,
   "id": "7a2d490a-c1ed-40a3-bc8e-9b5e863c27ee",
   "metadata": {},
   "outputs": [],
   "source": [
    "en = pd.read_csv(\"Value_of_Energy_Cost_dataset.csv\")"
   ]
  },
  {
   "cell_type": "code",
   "execution_count": 14,
   "id": "014bdfb7-24da-4de1-a14d-83c519e99fc2",
   "metadata": {},
   "outputs": [
    {
     "data": {
      "text/html": [
       "<div>\n",
       "<style scoped>\n",
       "    .dataframe tbody tr th:only-of-type {\n",
       "        vertical-align: middle;\n",
       "    }\n",
       "\n",
       "    .dataframe tbody tr th {\n",
       "        vertical-align: top;\n",
       "    }\n",
       "\n",
       "    .dataframe thead th {\n",
       "        text-align: right;\n",
       "    }\n",
       "</style>\n",
       "<table border=\"1\" class=\"dataframe\">\n",
       "  <thead>\n",
       "    <tr style=\"text-align: right;\">\n",
       "      <th></th>\n",
       "      <th>freq</th>\n",
       "      <th>NTA</th>\n",
       "    </tr>\n",
       "  </thead>\n",
       "  <tbody>\n",
       "    <tr>\n",
       "      <th>0</th>\n",
       "      <td>3.0</td>\n",
       "      <td>Midwood</td>\n",
       "    </tr>\n",
       "    <tr>\n",
       "      <th>1</th>\n",
       "      <td>5.0</td>\n",
       "      <td>SoHo-TriBeCa-Civic Center-Little Italy</td>\n",
       "    </tr>\n",
       "    <tr>\n",
       "      <th>2</th>\n",
       "      <td>9.0</td>\n",
       "      <td>Battery Park City-Lower Manhattan</td>\n",
       "    </tr>\n",
       "    <tr>\n",
       "      <th>3</th>\n",
       "      <td>48.0</td>\n",
       "      <td>Sunset Park West</td>\n",
       "    </tr>\n",
       "    <tr>\n",
       "      <th>4</th>\n",
       "      <td>9.0</td>\n",
       "      <td>Battery Park City-Lower Manhattan</td>\n",
       "    </tr>\n",
       "    <tr>\n",
       "      <th>...</th>\n",
       "      <td>...</td>\n",
       "      <td>...</td>\n",
       "    </tr>\n",
       "    <tr>\n",
       "      <th>445</th>\n",
       "      <td>10.0</td>\n",
       "      <td>Bushwick South</td>\n",
       "    </tr>\n",
       "    <tr>\n",
       "      <th>446</th>\n",
       "      <td>10.0</td>\n",
       "      <td>Bushwick South</td>\n",
       "    </tr>\n",
       "    <tr>\n",
       "      <th>447</th>\n",
       "      <td>3.0</td>\n",
       "      <td>Mariner's Harbor-Arlington-Port Ivory-Granitev...</td>\n",
       "    </tr>\n",
       "    <tr>\n",
       "      <th>448</th>\n",
       "      <td>9.0</td>\n",
       "      <td>Crown Heights North</td>\n",
       "    </tr>\n",
       "    <tr>\n",
       "      <th>449</th>\n",
       "      <td>3.0</td>\n",
       "      <td>Astoria</td>\n",
       "    </tr>\n",
       "  </tbody>\n",
       "</table>\n",
       "<p>450 rows × 2 columns</p>\n",
       "</div>"
      ],
      "text/plain": [
       "     freq                                                NTA\n",
       "0     3.0                                            Midwood\n",
       "1     5.0             SoHo-TriBeCa-Civic Center-Little Italy\n",
       "2     9.0                  Battery Park City-Lower Manhattan\n",
       "3    48.0                                   Sunset Park West\n",
       "4     9.0                  Battery Park City-Lower Manhattan\n",
       "..    ...                                                ...\n",
       "445  10.0                                     Bushwick South\n",
       "446  10.0                                     Bushwick South\n",
       "447   3.0  Mariner's Harbor-Arlington-Port Ivory-Granitev...\n",
       "448   9.0                                Crown Heights North\n",
       "449   3.0                                            Astoria\n",
       "\n",
       "[450 rows x 2 columns]"
      ]
     },
     "execution_count": 14,
     "metadata": {},
     "output_type": "execute_result"
    }
   ],
   "source": [
    "en['freq'] = en.groupby('NTA')['NTA'].transform('count')\n",
    "en[['freq', 'NTA']]                        "
   ]
  },
  {
   "cell_type": "code",
   "execution_count": 29,
   "id": "dc031a02-3369-4f3e-95d9-802bf9abd357",
   "metadata": {
    "tags": []
   },
   "outputs": [],
   "source": [
    "above_5 = (en[en['freq'] >= 5.0])"
   ]
  },
  {
   "cell_type": "code",
   "execution_count": 30,
   "id": "7a4f7ff9-2fdc-43ab-b9e7-119a959c7ced",
   "metadata": {},
   "outputs": [
    {
     "data": {
      "text/plain": [
       "0         0.00\n",
       "1    136578.20\n",
       "2    302959.40\n",
       "3      2159.67\n",
       "4    922407.32\n",
       "Name: Total Savings, dtype: float64"
      ]
     },
     "execution_count": 30,
     "metadata": {},
     "output_type": "execute_result"
    }
   ],
   "source": [
    "en['Total Savings'].head()"
   ]
  },
  {
   "cell_type": "code",
   "execution_count": 31,
   "id": "52fcdbab-d015-4491-84f2-ce6e3fb2c3e4",
   "metadata": {},
   "outputs": [
    {
     "data": {
      "text/plain": [
       "0   NaN\n",
       "1   NaN\n",
       "2   NaN\n",
       "3   NaN\n",
       "4   NaN\n",
       "Name: Job created, dtype: float64"
      ]
     },
     "execution_count": 31,
     "metadata": {},
     "output_type": "execute_result"
    }
   ],
   "source": [
    "en['Job created'].head()"
   ]
  },
  {
   "cell_type": "code",
   "execution_count": 50,
   "id": "d8028e01-33b6-4401-bfde-ad33b89146c6",
   "metadata": {},
   "outputs": [],
   "source": [
    "en['Total Savings'] = en['Total Savings'].astype(float)"
   ]
  },
  {
   "cell_type": "code",
   "execution_count": 51,
   "id": "1000a291-b6ec-4cdc-8230-e7d7bd149595",
   "metadata": {
    "tags": []
   },
   "outputs": [],
   "source": [
    "average_total_savings= above_5.groupby(['NTA'])['Total Savings'].mean()"
   ]
  },
  {
   "cell_type": "code",
   "execution_count": 52,
   "id": "5345680d-5907-4135-b824-12cdba575625",
   "metadata": {},
   "outputs": [],
   "source": [
    "dict(average_total_savings)\n",
    "en['average'] = en.NTA.map(dict(average_total_savings))"
   ]
  },
  {
   "cell_type": "code",
   "execution_count": 53,
   "id": "e4b57da0-8f0b-4a43-ac02-69096a87ff8b",
   "metadata": {},
   "outputs": [],
   "source": [
    "en['average'] = en.NTA.map(dict(average_total_savings))"
   ]
  },
  {
   "cell_type": "code",
   "execution_count": 54,
   "id": "0a766a11-191f-4310-a517-f5263a892a8d",
   "metadata": {},
   "outputs": [],
   "source": [
    "total_jobs_created = above_5.groupby(['NTA'])['Job created'].sum()\n",
    "dict(total_jobs_created)\n",
    "en['tot_jobs'] = en.NTA.map(dict(total_jobs_created))"
   ]
  },
  {
   "cell_type": "code",
   "execution_count": 37,
   "id": "18a31dc7-369f-4058-a81d-a1a4eea564cd",
   "metadata": {},
   "outputs": [
    {
     "name": "stdout",
     "output_type": "stream",
     "text": [
      "\\DATA SCIENCE COURSE None\n"
     ]
    }
   ],
   "source": [
    "csv_en = en.to_csv('en.csv', index = False)\n",
    "print('\\DATA SCIENCE COURSE', csv_en)"
   ]
  },
  {
   "cell_type": "markdown",
   "id": "f71a8f3e-c7ef-458f-9ff9-c1723e3ea40b",
   "metadata": {},
   "source": [
    "# create a scatter plot of jobs created versus average savings. Use both a standard and a logarithmic scale for the average savings."
   ]
  },
  {
   "cell_type": "code",
   "execution_count": 1,
   "id": "40734c8f-bd1c-43e5-a941-10a88ff70377",
   "metadata": {},
   "outputs": [],
   "source": [
    "import glob\n",
    "import os\n",
    "import pathlib\n",
    "import pandas as pd\n",
    "import matplotlib as mpl\n",
    "import matplotlib.pyplot as plt\n",
    "import numpy as np"
   ]
  },
  {
   "cell_type": "code",
   "execution_count": 2,
   "id": "d2f5c075-0e07-4874-aa1f-10ea2a549d56",
   "metadata": {},
   "outputs": [],
   "source": [
    "os.getcwd()\n",
    "os.chdir(\"C:/Users/ozkay/DATA SCIENCE COURSE/\")\n",
    "en = pd.read_csv('en.csv')"
   ]
  },
  {
   "cell_type": "code",
   "execution_count": 3,
   "id": "1a89d21f-fd9f-4e1d-8d03-0d4a60488be9",
   "metadata": {},
   "outputs": [
    {
     "data": {
      "text/plain": [
       "Index(['Company Name', 'company contact', 'company email', 'company phone',\n",
       "       'Address', 'City', 'State', 'Postcode', 'Industry', 'Industry descr',\n",
       "       'Company Type', 'Current fulltime', 'Job created', 'Job retain',\n",
       "       'Effective Date', 'Total Savings',\n",
       "       'Savings from beginning receiving benefits', 'Borough', 'Latitude',\n",
       "       'Longitude', 'Community Board', 'Council District', 'Census Tract',\n",
       "       'BIN', 'BBL', 'NTA', 'freq', 'tot_jobs', 'average'],\n",
       "      dtype='object')"
      ]
     },
     "execution_count": 3,
     "metadata": {},
     "output_type": "execute_result"
    }
   ],
   "source": [
    "en.columns"
   ]
  },
  {
   "cell_type": "code",
   "execution_count": 4,
   "id": "53acf916-961c-4ce7-a73e-b96544ed99cc",
   "metadata": {
    "tags": []
   },
   "outputs": [
    {
     "data": {
      "text/plain": [
       "0                NaN\n",
       "1       37214.024000\n",
       "2      469890.796667\n",
       "3       14316.976875\n",
       "4      469890.796667\n",
       "           ...      \n",
       "445     26140.455000\n",
       "446     26140.455000\n",
       "447              NaN\n",
       "448      4036.298889\n",
       "449              NaN\n",
       "Name: average, Length: 450, dtype: float64"
      ]
     },
     "execution_count": 4,
     "metadata": {},
     "output_type": "execute_result"
    }
   ],
   "source": [
    "en['average']"
   ]
  },
  {
   "cell_type": "code",
   "execution_count": 5,
   "id": "f85a7900-a73c-48d3-bb3f-240997bb6bc7",
   "metadata": {},
   "outputs": [
    {
     "data": {
      "text/plain": [
       "0       NaN\n",
       "1       0.0\n",
       "2       0.0\n",
       "3       0.0\n",
       "4       0.0\n",
       "       ... \n",
       "445    10.0\n",
       "446    10.0\n",
       "447     NaN\n",
       "448     0.0\n",
       "449     NaN\n",
       "Name: tot_jobs, Length: 450, dtype: float64"
      ]
     },
     "execution_count": 5,
     "metadata": {},
     "output_type": "execute_result"
    }
   ],
   "source": [
    "en['tot_jobs']"
   ]
  },
  {
   "cell_type": "code",
   "execution_count": 6,
   "id": "8b3b438c-ea7c-48cb-a3b6-b1eeb56ff34a",
   "metadata": {},
   "outputs": [
    {
     "data": {
      "text/plain": [
       "Text(0, 0.5, 'average_total_savings')"
      ]
     },
     "execution_count": 6,
     "metadata": {},
     "output_type": "execute_result"
    },
    {
     "data": {
      "image/png": "[encoded data removed]",
      "text/plain": [
       "<Figure size 432x360 with 1 Axes>"
      ]
     },
     "metadata": {
      "needs_background": "light"
     },
     "output_type": "display_data"
    }
   ],
   "source": [
    "x = en['tot_jobs']\n",
    "y = en['average']\n",
    "fig, ax = plt.subplots(figsize=(6, 5), layout='constrained')\n",
    "plt.scatter(x,y, edgecolor='blue', linewidth=3, alpha=0.50)\n",
    "plt.xscale=('linear')\n",
    "plt.yscale=('linear')\n",
    "plt.grid(True)\n",
    "ax.set_xlabel('total_jobs_created')\n",
    "ax.set_ylabel('average_total_savings')"
   ]
  },
  {
   "cell_type": "code",
   "execution_count": 7,
   "id": "62caa89e-c74a-44b4-8d83-99198cc5e838",
   "metadata": {
    "tags": []
   },
   "outputs": [
    {
     "data": {
      "text/plain": [
       "Text(0, 0.5, 'average_total_savings')"
      ]
     },
     "execution_count": 7,
     "metadata": {},
     "output_type": "execute_result"
    },
    {
     "data": {
      "image/png": "[encoded data removed]",
      "text/plain": [
       "<Figure size 432x360 with 1 Axes>"
      ]
     },
     "metadata": {
      "needs_background": "light"
     },
     "output_type": "display_data"
    }
   ],
   "source": [
    "x = en['tot_jobs']\n",
    "y = en['average']\n",
    "fig, ax = plt.subplots(figsize=(6, 5), layout='constrained')\n",
    "plt.scatter(x,y, edgecolor='blue', linewidth=3, alpha=0.50)\n",
    "plt.xscale=('log')\n",
    "plt.yscale=('log')\n",
    "plt.grid(True)\n",
    "ax.set_xlabel('total_jobs_created')\n",
    "ax.set_ylabel('average_total_savings')"
   ]
  },
  {
   "cell_type": "markdown",
   "id": "18b17899-0999-41de-a811-bb1e3533d984",
   "metadata": {},
   "source": [
    "# histogram of the log of the average total savings."
   ]
  },
  {
   "cell_type": "code",
   "execution_count": 10,
   "id": "b647f2e9-e95e-4628-83fb-67025628cabe",
   "metadata": {
    "jupyter": {
     "source_hidden": true
    },
    "tags": []
   },
   "outputs": [],
   "source": [
    "en['average'] = en['average'].astype(float)\n",
    "x = np.array(en['average'])"
   ]
  },
  {
   "cell_type": "code",
   "execution_count": 57,
   "id": "c0e38556-e5f5-45cf-b20c-053063bdf098",
   "metadata": {},
   "outputs": [
    {
     "data": {
      "text/plain": [
       "Index(['Company Name', 'company contact', 'company email', 'company phone',\n",
       "       'Address', 'City', 'State', 'Postcode', 'Industry', 'Industry descr',\n",
       "       'Company Type', 'Current fulltime', 'Job created', 'Job retain',\n",
       "       'Effective Date', 'Total Savings',\n",
       "       'Savings from beginning receiving benefits', 'Borough', 'Latitude',\n",
       "       'Longitude', 'Community Board', 'Council District', 'Census Tract',\n",
       "       'BIN', 'BBL', 'NTA', 'freq', 'tot_jobs', 'average', 'Date'],\n",
       "      dtype='object')"
      ]
     },
     "execution_count": 57,
     "metadata": {},
     "output_type": "execute_result"
    }
   ],
   "source": [
    "en.columns"
   ]
  },
  {
   "cell_type": "code",
   "execution_count": 15,
   "id": "7556fda6-31ef-4767-b561-035023d17b13",
   "metadata": {},
   "outputs": [
    {
     "data": {
      "image/png": "[encoded data removed]",
      "text/plain": [
       "<Figure size 432x288 with 1 Axes>"
      ]
     },
     "metadata": {
      "needs_background": "light"
     },
     "output_type": "display_data"
    }
   ],
   "source": [
    "plt.subplot(211)\n",
    "hist, bins, _ = plt.hist(x, bins=8)\n",
    "logbins = np.logspace(np.log10(bins[0]),np.log10(bins[-1]),len(bins))\n",
    "plt.hist(x, bins=logbins)\n",
    "plt.show()"
   ]
  },
  {
   "cell_type": "markdown",
   "id": "b2663577-0165-48b5-bd99-e40c9ef8b265",
   "metadata": {},
   "source": [
    "# line plot of the total jobs created for each month.\n"
   ]
  },
  {
   "cell_type": "code",
   "execution_count": 60,
   "id": "927aeb4b-d42d-4f57-acd0-92df0db10e2f",
   "metadata": {},
   "outputs": [],
   "source": [
    "en['Effective Date'] = np.array(en['Effective Date'])"
   ]
  },
  {
   "cell_type": "code",
   "execution_count": 64,
   "id": "cba597e6-2b68-438b-a466-f18ad050c421",
   "metadata": {},
   "outputs": [
    {
     "data": {
      "text/plain": [
       "(array([12784., 12965., 13149., 13330., 13514., 13695., 13879., 14061.,\n",
       "        14245.]),\n",
       " [Text(0, 0, ''),\n",
       "  Text(0, 0, ''),\n",
       "  Text(0, 0, ''),\n",
       "  Text(0, 0, ''),\n",
       "  Text(0, 0, ''),\n",
       "  Text(0, 0, ''),\n",
       "  Text(0, 0, ''),\n",
       "  Text(0, 0, ''),\n",
       "  Text(0, 0, '')])"
      ]
     },
     "execution_count": 64,
     "metadata": {},
     "output_type": "execute_result"
    },
    {
     "data": {
      "image/png": "[encoded data removed]",
      "text/plain": [
       "<Figure size 432x288 with 1 Axes>"
      ]
     },
     "metadata": {
      "needs_background": "light"
     },
     "output_type": "display_data"
    }
   ],
   "source": [
    "plot_en = en.dropna()\n",
    "plt.plot(plot_en['Effective Date'], plot_en['tot_jobs'],color='r', linewidth=2.0)\n",
    "plt.xticks(rotation='vertical')"
   ]
  },
  {
   "cell_type": "code",
   "execution_count": null,
   "id": "91e4516e-169e-4494-9630-156ab432f228",
   "metadata": {},
   "outputs": [],
   "source": []
  }
 ],
 "metadata": {
  "kernelspec": {
   "display_name": "Python 3 (ipykernel)",
   "language": "python",
   "name": "python3"
  },
  "language_info": {
   "codemirror_mode": {
    "name": "ipython",
    "version": 3
   },
   "file_extension": ".py",
   "mimetype": "text/x-python",
   "name": "python",
   "nbconvert_exporter": "python",
   "pygments_lexer": "ipython3",
   "version": "3.9.12"
  }
 },
 "nbformat": 4,
 "nbformat_minor": 5
}
